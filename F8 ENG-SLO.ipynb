{
 "cells": [
  {
   "cell_type": "markdown",
   "id": "548d5876",
   "metadata": {},
   "source": [
    "# ENGLAND VS SLOVAKIA : PREPARING ENGLAND"
   ]
  },
  {
   "cell_type": "markdown",
   "id": "306dd031",
   "metadata": {},
   "source": [
    "## How to watch video clip in match?"
   ]
  },
  {
   "cell_type": "raw",
   "id": "32015f76",
   "metadata": {},
   "source": [
    "1. type in directory in terminal: cd \"C:\\Users\\35266\\eventvideo\""
   ]
  },
  {
   "cell_type": "raw",
   "id": "cf17cd6b",
   "metadata": {},
   "source": [
    "2. type in: python eventvideo.py <match_id> <match_second> <output_filename>"
   ]
  },
  {
   "cell_type": "raw",
   "id": "753b282a",
   "metadata": {},
   "source": [
    "example: python eventvideo.py 5541745 4479.73 clip.mp4 -hq (-hq for high quality)"
   ]
  },
  {
   "cell_type": "raw",
   "id": "1a4e0f13",
   "metadata": {},
   "source": [
    "Wyscout: match IDs [5414319; 5414298; 5414280; 5414212; 5414173; 5414149; 5414127; 5414104]"
   ]
  },
  {
   "cell_type": "raw",
   "id": "a3a33290",
   "metadata": {},
   "source": [
    "Skillcorner match IDs [726848; 1381470; 1381488; 1381509]"
   ]
  },
  {
   "cell_type": "markdown",
   "id": "1bd5dcaf",
   "metadata": {},
   "source": [
    "## Export Physical Data from Skillcorner"
   ]
  },
  {
   "cell_type": "code",
   "execution_count": 11,
   "id": "6ce0ceae",
   "metadata": {},
   "outputs": [],
   "source": [
    "import json\n",
    "import pandas as pd \n",
    "\n",
    "# List of IDs for each country\n",
    "country_ids = {\n",
    "    'Slovenia': ['1381485', '1381466', '1381446', '1385659'],\n",
    "    'England': ['726848', '1381470', '1381488', '1381509']\n",
    "}\n",
    "\n",
    "# Iterate through each country\n",
    "for country, id_list in country_ids.items():\n",
    "    # Iterate through each match ID\n",
    "    for match_id in id_list:\n",
    "        df = pd.DataFrame()  # Initialize an empty DataFrame for each match ID\n",
    "        \n",
    "        # Open the files\n",
    "        with open(f'skillcorner/{match_id}/{match_id}_physical.json', 'r', encoding='utf-8') as f:\n",
    "            data = json.load(f)\n",
    "            \n",
    "        # The factors we want to record. Even though some players have some more data, we select those.  \n",
    "        columns_to_assign = [\n",
    "            \"player_id\",\"player_name\",\"Count High Acceleration\", \"Count High Acceleration 2\",\n",
    "            \"Count High Deceleration\", \"Count High Deceleration 2\",\n",
    "            \"Count HSR\", \"Count HSR 2\",\n",
    "            \"Count Medium Acceleration\", \"Count Medium Acceleration 2\",\n",
    "            \"Count Medium Deceleration\", \"Count Medium Deceleration 2\",\n",
    "            \"Count Sprint\", \"Count Sprint 2\",\n",
    "            \"count_match\", \"count_match_failed\",\n",
    "            \"Distance\", \"Distance 2\",\n",
    "            \"HSR Distance\", \"HSR Distance 2\",\n",
    "            \"Minutes\", \"Minutes 1\", \"Minutes 2\",\n",
    "            \"Minutes OTIP\", \"Minutes OTIP 1\", \"Minutes OTIP 2\",\n",
    "            \"Minutes TIP\", \"Minutes TIP 1\", \"Minutes TIP 2\", \n",
    "            \"PSV-99\", \"quality_check\",\n",
    "            \"Running Distance\", \"Running Distance 2\",\n",
    "            \"Sprinting Distance\", \"Sprinting Distance 2\"\n",
    "        ]\n",
    "        \n",
    "        # Iterate through the list of dictionaries\n",
    "        for j in range(len(data)):\n",
    "            # Assign values to specific cells in the DataFrame\n",
    "            for column in columns_to_assign:\n",
    "                if column in data[j]:\n",
    "                    df.loc[j, column] = data[j][column]\n",
    "        \n",
    "        # Export it to a CSV \n",
    "        df.to_csv(f\"export/{country}/{match_id}.csv\", index=False)\n"
   ]
  },
  {
   "cell_type": "markdown",
   "id": "c5127ecb",
   "metadata": {},
   "source": [
    "## Overview Matches"
   ]
  },
  {
   "cell_type": "code",
   "execution_count": 35,
   "id": "fb0c8416",
   "metadata": {},
   "outputs": [
    {
     "data": {
      "image/png": "[encoded data removed]",
      "text/plain": [
       "<Figure size 576x432 with 1 Axes>"
      ]
     },
     "metadata": {
      "needs_background": "light"
     },
     "output_type": "display_data"
    },
    {
     "name": "stdout",
     "output_type": "stream",
     "text": [
      "None Match not found\n"
     ]
    }
   ],
   "source": [
    "import pandas as pd\n",
    "import matplotlib.pyplot as plt\n",
    "\n",
    "# Hypothetical match outcomes dataset\n",
    "match_outcomes = {\n",
    "    'Match ID': ['5414319', '5414298', '5414280', '5414212', '5414173', '5414149', '5414127', '5414104'],\n",
    "    'Opponent': ['North Macedonia Away', 'Malta Home', 'Italy Home', 'Ukraine Away', 'North Macedonia Home', 'Malta away', 'Ukraine Home', 'Italy Away'],\n",
    "    'Outcome': ['Draw', 'Win', 'Win', 'Draw', 'Win', 'Win', 'Win', 'Win']\n",
    "}\n",
    "\n",
    "# Create a DataFrame from match outcomes\n",
    "df_outcomes = pd.DataFrame(match_outcomes)\n",
    "\n",
    "# Count the number of wins, draws, and losses including all possible categories\n",
    "outcome_counts = df_outcomes['Outcome'].value_counts(dropna=False)\n",
    "\n",
    "# Plotting\n",
    "plt.figure(figsize=(8, 6))\n",
    "outcome_counts.plot(kind='bar', color=['green', 'gray', 'red'])\n",
    "plt.title('England Match Outcomes European Qualification')\n",
    "plt.xlabel('Outcome')\n",
    "plt.ylabel('Number of Matches')\n",
    "plt.xticks(rotation=0)\n",
    "plt.tight_layout()\n",
    "plt.show()\n",
    "\n",
    "def get_match_outcome(match_id):\n",
    "    # Search for the match ID in the DataFrame\n",
    "    match_row = df_outcomes[df_outcomes['Match ID'] == match_id]\n",
    "    if not match_row.empty:\n",
    "        return match_row['Outcome'].iloc[0], match_row['Opponent'].iloc[0]\n",
    "    else:\n",
    "        return 'Match not found', None\n",
    "\n",
    "match_id = ''  # Change this to the match ID you want to search for\n",
    "outcome, opponent = get_match_outcome(match_id)\n",
    "print(f\"{opponent} {outcome}\")\n"
   ]
  },
  {
   "cell_type": "code",
   "execution_count": null,
   "id": "010f3ad0",
   "metadata": {},
   "outputs": [],
   "source": []
  }
 ],
 "metadata": {
  "kernelspec": {
   "display_name": "Python 3 (ipykernel)",
   "language": "python",
   "name": "python3"
  },
  "language_info": {
   "codemirror_mode": {
    "name": "ipython",
    "version": 3
   },
   "file_extension": ".py",
   "mimetype": "text/x-python",
   "name": "python",
   "nbconvert_exporter": "python",
   "pygments_lexer": "ipython3",
   "version": "3.9.7"
  }
 },
 "nbformat": 4,
 "nbformat_minor": 5
}
